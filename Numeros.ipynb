{
  "nbformat": 4,
  "nbformat_minor": 0,
  "metadata": {
    "colab": {
      "provenance": [],
      "include_colab_link": true
    },
    "kernelspec": {
      "name": "python3",
      "display_name": "Python 3"
    },
    "language_info": {
      "name": "python"
    }
  },
  "cells": [
    {
      "cell_type": "markdown",
      "metadata": {
        "id": "view-in-github",
        "colab_type": "text"
      },
      "source": [
        "<a href=\"https://colab.research.google.com/github/julife12/Colab_FIA/blob/main/Numeros.ipynb\" target=\"_parent\"><img src=\"https://colab.research.google.com/assets/colab-badge.svg\" alt=\"Open In Colab\"/></a>"
      ]
    },
    {
      "cell_type": "code",
      "execution_count": 1,
      "metadata": {
        "id": "Pvy_oam0LpM-"
      },
      "outputs": [],
      "source": [
        "# Importamos numpy y matplotlib\n",
        "import numpy as np\n",
        "import matplotlib.pyplot as plt\n",
        "\n",
        "# Importamos lo necesario para crear la red\n",
        "from tensorflow import keras\n",
        "from keras.datasets import mnist\n",
        "from keras.models import Sequential\n",
        "from keras.layers import Dense, Dropout, Flatten\n",
        "from keras.layers import Conv2D, MaxPooling2D\n",
        "from keras import backend\n",
        "\n",
        "# Importamos unos paquetes de sklearn para comprobar el modelo\n",
        "from sklearn.metrics import classification_report, confusion_matrix"
      ]
    },
    {
      "cell_type": "code",
      "source": [
        "(xtrain, ytrain), (xtest, ytest) = mnist.load_data()"
      ],
      "metadata": {
        "id": "745NPKRkMAej",
        "colab": {
          "base_uri": "https://localhost:8080/"
        },
        "outputId": "5928954a-d09f-4780-e095-82c96799a440"
      },
      "execution_count": 2,
      "outputs": [
        {
          "output_type": "stream",
          "name": "stdout",
          "text": [
            "Downloading data from https://storage.googleapis.com/tensorflow/tf-keras-datasets/mnist.npz\n",
            "11490434/11490434 [==============================] - 1s 0us/step\n"
          ]
        }
      ]
    },
    {
      "cell_type": "code",
      "source": [
        "sample = np.random.randint(0,60000)\n",
        "plt.imshow(xtrain[sample], cmap=plt.cm.gray)\n",
        "plt.title('Label: ' + str(ytrain[sample]))"
      ],
      "metadata": {
        "colab": {
          "base_uri": "https://localhost:8080/",
          "height": 469
        },
        "id": "OVZjoDn2MA69",
        "outputId": "b88f5c11-5bba-4996-af3e-dc0e9fb5f6f1"
      },
      "execution_count": 3,
      "outputs": [
        {
          "output_type": "execute_result",
          "data": {
            "text/plain": [
              "Text(0.5, 1.0, 'Label: 9')"
            ]
          },
          "metadata": {},
          "execution_count": 3
        },
        {
          "output_type": "display_data",
          "data": {
            "text/plain": [
              "<Figure size 640x480 with 1 Axes>"
            ],
            "image/png": "[encoded data removed]"
          },
          "metadata": {}
        }
      ]
    },
    {
      "cell_type": "code",
      "source": [
        "xtrain = xtrain.astype('float32')/255\n",
        "xtest = xtest.astype('float32')/255\n",
        "\n",
        "if backend.image_data_format() == 'channels_first':\n",
        "    xtrain = xtrain.reshape(xtrain.shape[0], 1, 28, 28)\n",
        "    xtest = xtest.reshape(xtest.shape[0], 1, 28, 28)\n",
        "    input_shape = (1, 28, 28)\n",
        "else:\n",
        "    xtrain = xtrain.reshape(xtrain.shape[0], 28, 28, 1)\n",
        "    xtest = xtest.reshape(xtest.shape[0], 28, 28, 1)\n",
        "    input_shape = (28, 28, 1)\n",
        "\n",
        "print(xtrain.shape)\n",
        "print(input_shape)"
      ],
      "metadata": {
        "colab": {
          "base_uri": "https://localhost:8080/"
        },
        "id": "aNnTRBmYML1t",
        "outputId": "b611ea84-4149-4b55-f0e6-2f5373b3ba10"
      },
      "execution_count": 4,
      "outputs": [
        {
          "output_type": "stream",
          "name": "stdout",
          "text": [
            "(60000, 28, 28, 1)\n",
            "(28, 28, 1)\n"
          ]
        }
      ]
    },
    {
      "cell_type": "code",
      "source": [
        "ytrain = keras.utils.to_categorical(ytrain, 10)\n",
        "print(ytrain)"
      ],
      "metadata": {
        "colab": {
          "base_uri": "https://localhost:8080/"
        },
        "id": "8OTSUxSgMN4z",
        "outputId": "9854d5f0-1e76-4c71-a850-3d6ab87d5929"
      },
      "execution_count": 5,
      "outputs": [
        {
          "output_type": "stream",
          "name": "stdout",
          "text": [
            "[[0. 0. 0. ... 0. 0. 0.]\n",
            " [1. 0. 0. ... 0. 0. 0.]\n",
            " [0. 0. 0. ... 0. 0. 0.]\n",
            " ...\n",
            " [0. 0. 0. ... 0. 0. 0.]\n",
            " [0. 0. 0. ... 0. 0. 0.]\n",
            " [0. 0. 0. ... 0. 1. 0.]]\n"
          ]
        }
      ]
    },
    {
      "cell_type": "code",
      "source": [
        "def build_model():\n",
        "  model = Sequential()\n",
        "\n",
        "  model.add(Conv2D(3,kernel_size=(3,3),\n",
        "                   activation='relu',\n",
        "                   input_shape=input_shape))\n",
        "  model.add(MaxPooling2D(pool_size=(2,2)))\n",
        "  model.add(Dropout(0.25))\n",
        "\n",
        "  model.add(Conv2D(3, kernel_size=(3,3), activation='relu'))\n",
        "  model.add(MaxPooling2D(pool_size=(2,2)))\n",
        "  model.add(Dropout(0.25))\n",
        "\n",
        "  model.add(Conv2D(80, kernel_size=(3,3), activation='relu'))\n",
        "  model.add(MaxPooling2D(pool_size=(2,2)))\n",
        "  model.add(Dropout(0.25))\n",
        "\n",
        "  model.add(Flatten())\n",
        "  model.add(Dense(5, activation='relu'))\n",
        "  model.add(Dropout(0.5))\n",
        "  model.add(Dense(10, activation='softmax'))\n",
        "\n",
        "  model.compile(loss = keras.losses.categorical_crossentropy,\n",
        "                optimizer = 'adam',\n",
        "                metrics=['accuracy'])\n",
        "  return model"
      ],
      "metadata": {
        "id": "Ftxeds88MQVL"
      },
      "execution_count": 6,
      "outputs": []
    },
    {
      "cell_type": "code",
      "source": [
        "model = build_model()\n",
        "model.summary()"
      ],
      "metadata": {
        "colab": {
          "base_uri": "https://localhost:8080/"
        },
        "id": "r6R6YiolM0IC",
        "outputId": "938c9bed-d320-47eb-87e1-74fa18dd8c58"
      },
      "execution_count": 7,
      "outputs": [
        {
          "output_type": "stream",
          "name": "stdout",
          "text": [
            "Model: \"sequential\"\n",
            "_________________________________________________________________\n",
            " Layer (type)                Output Shape              Param #   \n",
            "=================================================================\n",
            " conv2d (Conv2D)             (None, 26, 26, 3)         30        \n",
            "                                                                 \n",
            " max_pooling2d (MaxPooling2D  (None, 13, 13, 3)        0         \n",
            " )                                                               \n",
            "                                                                 \n",
            " dropout (Dropout)           (None, 13, 13, 3)         0         \n",
            "                                                                 \n",
            " conv2d_1 (Conv2D)           (None, 11, 11, 3)         84        \n",
            "                                                                 \n",
            " max_pooling2d_1 (MaxPooling  (None, 5, 5, 3)          0         \n",
            " 2D)                                                             \n",
            "                                                                 \n",
            " dropout_1 (Dropout)         (None, 5, 5, 3)           0         \n",
            "                                                                 \n",
            " conv2d_2 (Conv2D)           (None, 3, 3, 80)          2240      \n",
            "                                                                 \n",
            " max_pooling2d_2 (MaxPooling  (None, 1, 1, 80)         0         \n",
            " 2D)                                                             \n",
            "                                                                 \n",
            " dropout_2 (Dropout)         (None, 1, 1, 80)          0         \n",
            "                                                                 \n",
            " flatten (Flatten)           (None, 80)                0         \n",
            "                                                                 \n",
            " dense (Dense)               (None, 5)                 405       \n",
            "                                                                 \n",
            " dropout_3 (Dropout)         (None, 5)                 0         \n",
            "                                                                 \n",
            " dense_1 (Dense)             (None, 10)                60        \n",
            "                                                                 \n",
            "=================================================================\n",
            "Total params: 2,819\n",
            "Trainable params: 2,819\n",
            "Non-trainable params: 0\n",
            "_________________________________________________________________\n"
          ]
        }
      ]
    },
    {
      "cell_type": "code",
      "source": [
        "model.fit(xtrain, ytrain, batch_size=1000, epochs=10, verbose=1,\n",
        "          validation_split=0.15)"
      ],
      "metadata": {
        "colab": {
          "base_uri": "https://localhost:8080/"
        },
        "id": "ucq4QbGzND21",
        "outputId": "36c8124b-8db3-4041-e4fb-c7884c1f8d84"
      },
      "execution_count": 18,
      "outputs": [
        {
          "output_type": "stream",
          "name": "stdout",
          "text": [
            "Epoch 1/10\n",
            "51/51 [==============================] - 15s 286ms/step - loss: 1.6351 - accuracy: 0.3786 - val_loss: 1.1426 - val_accuracy: 0.7159\n",
            "Epoch 2/10\n",
            "51/51 [==============================] - 14s 284ms/step - loss: 1.6268 - accuracy: 0.3852 - val_loss: 1.1337 - val_accuracy: 0.7329\n",
            "Epoch 3/10\n",
            "51/51 [==============================] - 14s 285ms/step - loss: 1.6267 - accuracy: 0.3799 - val_loss: 1.1325 - val_accuracy: 0.7210\n",
            "Epoch 4/10\n",
            "51/51 [==============================] - 14s 284ms/step - loss: 1.6295 - accuracy: 0.3836 - val_loss: 1.1310 - val_accuracy: 0.7202\n",
            "Epoch 5/10\n",
            "51/51 [==============================] - 14s 280ms/step - loss: 1.6306 - accuracy: 0.3835 - val_loss: 1.1337 - val_accuracy: 0.7244\n",
            "Epoch 6/10\n",
            "51/51 [==============================] - 16s 311ms/step - loss: 1.6308 - accuracy: 0.3833 - val_loss: 1.1265 - val_accuracy: 0.7229\n",
            "Epoch 7/10\n",
            "51/51 [==============================] - 16s 303ms/step - loss: 1.6243 - accuracy: 0.3841 - val_loss: 1.1357 - val_accuracy: 0.7146\n",
            "Epoch 8/10\n",
            "51/51 [==============================] - 15s 287ms/step - loss: 1.6285 - accuracy: 0.3838 - val_loss: 1.1217 - val_accuracy: 0.7337\n",
            "Epoch 9/10\n",
            "51/51 [==============================] - 14s 276ms/step - loss: 1.6259 - accuracy: 0.3834 - val_loss: 1.1171 - val_accuracy: 0.7297\n",
            "Epoch 10/10\n",
            "51/51 [==============================] - 14s 275ms/step - loss: 1.6235 - accuracy: 0.3867 - val_loss: 1.1115 - val_accuracy: 0.7357\n"
          ]
        },
        {
          "output_type": "execute_result",
          "data": {
            "text/plain": [
              "<keras.callbacks.History at 0x7f45135fc280>"
            ]
          },
          "metadata": {},
          "execution_count": 18
        }
      ]
    },
    {
      "cell_type": "code",
      "source": [
        "ypred=model.predict(xtest)\n",
        "print('Salida de la red:\\n', ypred[0])\n",
        "\n",
        "ypred = np.argmax(ypred, axis=1)\n",
        "print('Predicciones:\\n', ypred)\n",
        "\n",
        "print('Reporte de clasificación:\\n', classification_report(ytest, ypred))\n",
        "print('Matriz de confusión:\\n', confusion_matrix(ytest, ypred))"
      ],
      "metadata": {
        "id": "mzvuCYtsN8IN",
        "colab": {
          "base_uri": "https://localhost:8080/"
        },
        "outputId": "70eb582b-95ea-423b-f2f0-5891c67457ed"
      },
      "execution_count": 19,
      "outputs": [
        {
          "output_type": "stream",
          "name": "stdout",
          "text": [
            "313/313 [==============================] - 3s 10ms/step\n",
            "Salida de la red:\n",
            " [9.0792932e-02 1.4019050e-04 2.0631644e-01 1.6419616e-01 8.0547443e-06\n",
            " 1.6493410e-02 1.2279840e-05 4.9221262e-01 2.1886388e-02 7.9414016e-03]\n",
            "Predicciones:\n",
            " [7 2 1 ... 4 9 6]\n",
            "Reporte de clasificación:\n",
            "               precision    recall  f1-score   support\n",
            "\n",
            "           0       0.90      0.93      0.92       980\n",
            "           1       0.97      0.99      0.98      1135\n",
            "           2       0.92      0.72      0.81      1032\n",
            "           3       0.82      0.85      0.83      1010\n",
            "           4       0.71      0.85      0.78       982\n",
            "           5       0.00      0.00      0.00       892\n",
            "           6       0.80      0.71      0.75       958\n",
            "           7       0.89      0.87      0.88      1028\n",
            "           8       0.52      0.37      0.43       974\n",
            "           9       0.42      0.93      0.58      1009\n",
            "\n",
            "    accuracy                           0.74     10000\n",
            "   macro avg       0.70      0.72      0.70     10000\n",
            "weighted avg       0.71      0.74      0.71     10000\n",
            "\n",
            "Matriz de confusión:\n",
            " [[ 913    0    2    0    9    0   24    3    4   25]\n",
            " [   0 1118    1    2    1    0    5    3    4    1]\n",
            " [  60    6  746   98    4    0    3   56   52    7]\n",
            " [   0    0   25  859    0    0    0   26   87   13]\n",
            " [   1    2    0    0  839    0  126    0    1   13]\n",
            " [   9    2    3   17   17    0    4    7  160  673]\n",
            " [  12    7    0    0  246    0  680    0    3   10]\n",
            " [   7    4   32   31    2    0    1  896   13   42]\n",
            " [   2    6    2   40   23    0    4   13  362  522]\n",
            " [   5    4    1    2   35    0    2    6   15  939]]\n"
          ]
        },
        {
          "output_type": "stream",
          "name": "stderr",
          "text": [
            "/usr/local/lib/python3.10/dist-packages/sklearn/metrics/_classification.py:1344: UndefinedMetricWarning: Precision and F-score are ill-defined and being set to 0.0 in labels with no predicted samples. Use `zero_division` parameter to control this behavior.\n",
            "  _warn_prf(average, modifier, msg_start, len(result))\n",
            "/usr/local/lib/python3.10/dist-packages/sklearn/metrics/_classification.py:1344: UndefinedMetricWarning: Precision and F-score are ill-defined and being set to 0.0 in labels with no predicted samples. Use `zero_division` parameter to control this behavior.\n",
            "  _warn_prf(average, modifier, msg_start, len(result))\n",
            "/usr/local/lib/python3.10/dist-packages/sklearn/metrics/_classification.py:1344: UndefinedMetricWarning: Precision and F-score are ill-defined and being set to 0.0 in labels with no predicted samples. Use `zero_division` parameter to control this behavior.\n",
            "  _warn_prf(average, modifier, msg_start, len(result))\n"
          ]
        }
      ]
    }
  ]
}